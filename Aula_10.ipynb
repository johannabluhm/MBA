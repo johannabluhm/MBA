{
  "nbformat": 4,
  "nbformat_minor": 0,
  "metadata": {
    "colab": {
      "provenance": [],
      "authorship_tag": "ABX9TyMzKc37/YA0a3MBwPCI6VCD",
      "include_colab_link": true
    },
    "kernelspec": {
      "name": "python3",
      "display_name": "Python 3"
    },
    "language_info": {
      "name": "python"
    }
  },
  "cells": [
    {
      "cell_type": "markdown",
      "metadata": {
        "id": "view-in-github",
        "colab_type": "text"
      },
      "source": [
        "<a href=\"https://colab.research.google.com/github/johannabluhm/MBA/blob/main/Aula_10.ipynb\" target=\"_parent\"><img src=\"https://colab.research.google.com/assets/colab-badge.svg\" alt=\"Open In Colab\"/></a>"
      ]
    },
    {
      "cell_type": "code",
      "execution_count": 3,
      "metadata": {
        "colab": {
          "base_uri": "https://localhost:8080/"
        },
        "id": "7f559vbd9ZjY",
        "outputId": "5e48c4df-8c13-4b23-b164-04c08d5ed63a"
      },
      "outputs": [
        {
          "output_type": "stream",
          "name": "stdout",
          "text": [
            "Qual o seu nome?Johann\n",
            "Que nome lindo voce tem!\n",
            "Bom dia, Johann\n"
          ]
        }
      ],
      "source": [
        "nome = str(input('Qual o seu nome?'))\n",
        "if nome == 'Johann':\n",
        "    print('Que nome lindo voce tem!')\n",
        "print('Bom dia, {}'.format(nome))"
      ]
    },
    {
      "cell_type": "code",
      "source": [
        "n1 = float(input('Informe a primeira nota: '))\n",
        "n2 = float(input('Informe a segunda nota: '))\n",
        "m = (n1 + n2)/2\n",
        "print('Sua média foi {:.1f}'.format(m))\n",
        "if m >= 6.0:\n",
        "    print('Voce está acima da média, parabens!')\n",
        "else:\n",
        "    print('Voce reprovou, tente novamente')"
      ],
      "metadata": {
        "colab": {
          "base_uri": "https://localhost:8080/"
        },
        "id": "I4yX8lH3_yam",
        "outputId": "2f47d7ee-dc23-4b8e-d92e-780ca79b8d8d"
      },
      "execution_count": 5,
      "outputs": [
        {
          "output_type": "stream",
          "name": "stdout",
          "text": [
            "Informe a primeira nota: 9\n",
            "Informe a segunda nota: 2\n",
            "Sua média foi 5.5\n",
            "Voce reprovou, tente novamente\n"
          ]
        }
      ]
    },
    {
      "cell_type": "code",
      "source": [
        "\n",
        "\n",
        "\n"
      ],
      "metadata": {
        "colab": {
          "base_uri": "https://localhost:8080/"
        },
        "id": "S0Cz_EPHDfdw",
        "outputId": "be603911-8695-4986-da23-5a7050b13d0d"
      },
      "execution_count": 32,
      "outputs": [
        {
          "output_type": "stream",
          "name": "stdout",
          "text": [
            "Informe um número de 0 a 5 1\n",
            "Parabens voce acertou!, o número escolhido foi o 1\n"
          ]
        }
      ]
    }
  ]
}